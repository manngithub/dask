{
 "cells": [
  {
   "cell_type": "markdown",
   "metadata": {},
   "source": [
    "## Example of delayed method on sequence of funtions\n",
    "This example shows the application of delayed method on functions that can accelerate the computations\n",
    "### Sequential Code"
   ]
  },
  {
   "cell_type": "code",
   "execution_count": null,
   "metadata": {},
   "outputs": [],
   "source": [
    "import pandas as pd\n",
    "from sklearn.metrics import mean_squared_error as mse\n",
    "filenames = [...]\n",
    "\n",
    "results = []\n",
    "for count, name in enumerate(filenames):\n",
    "    file1 = pd.read_csv(name)\n",
    "    df = pd.DataFrame(file1)  # isn't this already a dataframe?\n",
    "    prediction = df['Close'][:-1]\n",
    "    observed = df['Close'][1:]\n",
    "    mean_squared_error = mse(observed, prediction)  \n",
    "    results.append(mean_squared_error)"
   ]
  },
  {
   "cell_type": "markdown",
   "metadata": {},
   "source": [
    "### Parallel Code"
   ]
  },
  {
   "cell_type": "code",
   "execution_count": null,
   "metadata": {},
   "outputs": [],
   "source": [
    "import dask\n",
    "import pandas as pd\n",
    "from sklearn.metrics import mean_squared_error as mse\n",
    "filenames = [...]\n",
    "\n",
    "delayed_results = []\n",
    "for count, name in enumerate(filenames):\n",
    "    df = dask.delayed(pd.read_csv)(name)\n",
    "    prediction = df['Close'][:-1]\n",
    "    observed = df['Close'][1:]\n",
    "    mean_squared_error = dask.delayed(mse)(observed, prediction)\n",
    "    delayed_results.append(mean_squared_error)\n",
    "\n",
    "results = dask.compute(*delayed_results)"
   ]
  }
 ],
 "metadata": {
  "kernelspec": {
   "display_name": "Python 3",
   "language": "python",
   "name": "python3"
  },
  "language_info": {
   "codemirror_mode": {
    "name": "ipython",
    "version": 3
   },
   "file_extension": ".py",
   "mimetype": "text/x-python",
   "name": "python",
   "nbconvert_exporter": "python",
   "pygments_lexer": "ipython3",
   "version": "3.7.4"
  }
 },
 "nbformat": 4,
 "nbformat_minor": 4
}
